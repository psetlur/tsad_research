{
  "nbformat": 4,
  "nbformat_minor": 0,
  "metadata": {
    "colab": {
      "provenance": [],
      "gpuType": "T4"
    },
    "kernelspec": {
      "name": "python3",
      "display_name": "Python 3"
    },
    "language_info": {
      "name": "python"
    },
    "accelerator": "GPU"
  },
  "cells": [
    {
      "cell_type": "code",
      "execution_count": null,
      "metadata": {
        "colab": {
          "base_uri": "https://localhost:8080/"
        },
        "id": "1y0dttNybOOz",
        "outputId": "8b1be8d4-eb73-4691-f0e4-055439aaf405"
      },
      "outputs": [
        {
          "output_type": "stream",
          "name": "stdout",
          "text": [
            "Cloning into 'tsad_research'...\n",
            "remote: Enumerating objects: 63, done.\u001b[K\n",
            "remote: Counting objects: 100% (63/63), done.\u001b[K\n",
            "remote: Compressing objects: 100% (45/45), done.\u001b[K\n",
            "remote: Total 63 (delta 17), reused 27 (delta 8), pack-reused 0 (from 0)\u001b[K\n",
            "Receiving objects: 100% (63/63), 59.66 MiB | 1.00 MiB/s, done.\n",
            "Resolving deltas: 100% (17/17), done.\n"
          ]
        }
      ],
      "source": [
        "!git clone https://github.com/psetlur/tsad_research.git"
      ]
    },
    {
      "cell_type": "code",
      "source": [
        "%cd tsad_research/online_tsad"
      ],
      "metadata": {
        "colab": {
          "base_uri": "https://localhost:8080/"
        },
        "id": "2ZpYioeObmDa",
        "outputId": "a41b4d9e-9f54-47fe-c52f-7f1670e701fd"
      },
      "execution_count": null,
      "outputs": [
        {
          "output_type": "stream",
          "name": "stdout",
          "text": [
            "/content/tsad_research/online_tsad\n"
          ]
        }
      ]
    },
    {
      "cell_type": "code",
      "source": [
        "!pip install bayesian-optimization"
      ],
      "metadata": {
        "colab": {
          "base_uri": "https://localhost:8080/"
        },
        "id": "WZtjZsYlbmAV",
        "outputId": "6e870336-7809-4cef-fbf1-1c1da8a847dd"
      },
      "execution_count": null,
      "outputs": [
        {
          "output_type": "stream",
          "name": "stdout",
          "text": [
            "Collecting bayesian-optimization\n",
            "  Downloading bayesian_optimization-2.0.0-py3-none-any.whl.metadata (8.9 kB)\n",
            "Collecting colorama<0.5.0,>=0.4.6 (from bayesian-optimization)\n",
            "  Downloading colorama-0.4.6-py2.py3-none-any.whl.metadata (17 kB)\n",
            "Requirement already satisfied: numpy>=1.25 in /usr/local/lib/python3.10/dist-packages (from bayesian-optimization) (1.26.4)\n",
            "Requirement already satisfied: scikit-learn<2.0.0,>=1.0.0 in /usr/local/lib/python3.10/dist-packages (from bayesian-optimization) (1.5.2)\n",
            "Requirement already satisfied: scipy<2.0.0,>=1.0.0 in /usr/local/lib/python3.10/dist-packages (from bayesian-optimization) (1.13.1)\n",
            "Requirement already satisfied: joblib>=1.2.0 in /usr/local/lib/python3.10/dist-packages (from scikit-learn<2.0.0,>=1.0.0->bayesian-optimization) (1.4.2)\n",
            "Requirement already satisfied: threadpoolctl>=3.1.0 in /usr/local/lib/python3.10/dist-packages (from scikit-learn<2.0.0,>=1.0.0->bayesian-optimization) (3.5.0)\n",
            "Downloading bayesian_optimization-2.0.0-py3-none-any.whl (30 kB)\n",
            "Downloading colorama-0.4.6-py2.py3-none-any.whl (25 kB)\n",
            "Installing collected packages: colorama, bayesian-optimization\n",
            "Successfully installed bayesian-optimization-2.0.0 colorama-0.4.6\n"
          ]
        }
      ]
    },
    {
      "cell_type": "code",
      "source": [
        "!pip install -r requirements.txt"
      ],
      "metadata": {
        "colab": {
          "base_uri": "https://localhost:8080/"
        },
        "id": "tYsW25Hwbl-I",
        "outputId": "90a287e8-fb2c-4fe2-88fc-bf159e1a9a9a"
      },
      "execution_count": null,
      "outputs": [
        {
          "output_type": "stream",
          "name": "stdout",
          "text": [
            "Collecting geomloss==0.2.6 (from -r requirements.txt (line 1))\n",
            "  Downloading geomloss-0.2.6.tar.gz (26 kB)\n",
            "  Preparing metadata (setup.py) ... \u001b[?25l\u001b[?25hdone\n",
            "Collecting info_nce_pytorch==0.1.4 (from -r requirements.txt (line 2))\n",
            "  Downloading info_nce_pytorch-0.1.4-py3-none-any.whl.metadata (3.1 kB)\n",
            "Collecting lightning==2.4.0 (from -r requirements.txt (line 3))\n",
            "  Downloading lightning-2.4.0-py3-none-any.whl.metadata (38 kB)\n",
            "Requirement already satisfied: numpy==1.26.4 in /usr/local/lib/python3.10/dist-packages (from -r requirements.txt (line 5)) (1.26.4)\n",
            "Collecting pandas==2.2.3 (from -r requirements.txt (line 6))\n",
            "  Downloading pandas-2.2.3-cp310-cp310-manylinux_2_17_x86_64.manylinux2014_x86_64.whl.metadata (89 kB)\n",
            "\u001b[2K     \u001b[90m━━━━━━━━━━━━━━━━━━━━━━━━━━━━━━━━━━━━━━━━\u001b[0m \u001b[32m89.9/89.9 kB\u001b[0m \u001b[31m5.1 MB/s\u001b[0m eta \u001b[36m0:00:00\u001b[0m\n",
            "\u001b[?25hCollecting pytorch_lightning==2.0.3 (from -r requirements.txt (line 7))\n",
            "  Downloading pytorch_lightning-2.0.3-py3-none-any.whl.metadata (23 kB)\n",
            "Requirement already satisfied: PyYAML==6.0.2 in /usr/local/lib/python3.10/dist-packages (from -r requirements.txt (line 8)) (6.0.2)\n",
            "Requirement already satisfied: scikit_learn==1.5.2 in /usr/local/lib/python3.10/dist-packages (from -r requirements.txt (line 9)) (1.5.2)\n",
            "Requirement already satisfied: termcolor==2.5.0 in /usr/local/lib/python3.10/dist-packages (from -r requirements.txt (line 10)) (2.5.0)\n",
            "Collecting torch==2.3.1 (from -r requirements.txt (line 11))\n",
            "  Downloading torch-2.3.1-cp310-cp310-manylinux1_x86_64.whl.metadata (26 kB)\n",
            "Collecting tqdm==4.66.4 (from -r requirements.txt (line 12))\n",
            "  Downloading tqdm-4.66.4-py3-none-any.whl.metadata (57 kB)\n",
            "\u001b[2K     \u001b[90m━━━━━━━━━━━━━━━━━━━━━━━━━━━━━━━━━━━━━━━━\u001b[0m \u001b[32m57.6/57.6 kB\u001b[0m \u001b[31m5.7 MB/s\u001b[0m eta \u001b[36m0:00:00\u001b[0m\n",
            "\u001b[?25hRequirement already satisfied: fsspec<2026.0,>=2022.5.0 in /usr/local/lib/python3.10/dist-packages (from fsspec[http]<2026.0,>=2022.5.0->lightning==2.4.0->-r requirements.txt (line 3)) (2024.10.0)\n",
            "Collecting lightning-utilities<2.0,>=0.10.0 (from lightning==2.4.0->-r requirements.txt (line 3))\n",
            "  Downloading lightning_utilities-0.11.9-py3-none-any.whl.metadata (5.2 kB)\n",
            "Requirement already satisfied: packaging<25.0,>=20.0 in /usr/local/lib/python3.10/dist-packages (from lightning==2.4.0->-r requirements.txt (line 3)) (24.2)\n",
            "Collecting torchmetrics<3.0,>=0.7.0 (from lightning==2.4.0->-r requirements.txt (line 3))\n",
            "  Downloading torchmetrics-1.6.0-py3-none-any.whl.metadata (20 kB)\n",
            "Requirement already satisfied: typing-extensions<6.0,>=4.4.0 in /usr/local/lib/python3.10/dist-packages (from lightning==2.4.0->-r requirements.txt (line 3)) (4.12.2)\n",
            "Requirement already satisfied: python-dateutil>=2.8.2 in /usr/local/lib/python3.10/dist-packages (from pandas==2.2.3->-r requirements.txt (line 6)) (2.8.2)\n",
            "Requirement already satisfied: pytz>=2020.1 in /usr/local/lib/python3.10/dist-packages (from pandas==2.2.3->-r requirements.txt (line 6)) (2024.2)\n",
            "Requirement already satisfied: tzdata>=2022.7 in /usr/local/lib/python3.10/dist-packages (from pandas==2.2.3->-r requirements.txt (line 6)) (2024.2)\n",
            "Requirement already satisfied: scipy>=1.6.0 in /usr/local/lib/python3.10/dist-packages (from scikit_learn==1.5.2->-r requirements.txt (line 9)) (1.13.1)\n",
            "Requirement already satisfied: joblib>=1.2.0 in /usr/local/lib/python3.10/dist-packages (from scikit_learn==1.5.2->-r requirements.txt (line 9)) (1.4.2)\n",
            "Requirement already satisfied: threadpoolctl>=3.1.0 in /usr/local/lib/python3.10/dist-packages (from scikit_learn==1.5.2->-r requirements.txt (line 9)) (3.5.0)\n",
            "Requirement already satisfied: filelock in /usr/local/lib/python3.10/dist-packages (from torch==2.3.1->-r requirements.txt (line 11)) (3.16.1)\n",
            "Requirement already satisfied: sympy in /usr/local/lib/python3.10/dist-packages (from torch==2.3.1->-r requirements.txt (line 11)) (1.13.1)\n",
            "Requirement already satisfied: networkx in /usr/local/lib/python3.10/dist-packages (from torch==2.3.1->-r requirements.txt (line 11)) (3.4.2)\n",
            "Requirement already satisfied: jinja2 in /usr/local/lib/python3.10/dist-packages (from torch==2.3.1->-r requirements.txt (line 11)) (3.1.4)\n",
            "Collecting nvidia-cuda-nvrtc-cu12==12.1.105 (from torch==2.3.1->-r requirements.txt (line 11))\n",
            "  Downloading nvidia_cuda_nvrtc_cu12-12.1.105-py3-none-manylinux1_x86_64.whl.metadata (1.5 kB)\n",
            "Collecting nvidia-cuda-runtime-cu12==12.1.105 (from torch==2.3.1->-r requirements.txt (line 11))\n",
            "  Downloading nvidia_cuda_runtime_cu12-12.1.105-py3-none-manylinux1_x86_64.whl.metadata (1.5 kB)\n",
            "Collecting nvidia-cuda-cupti-cu12==12.1.105 (from torch==2.3.1->-r requirements.txt (line 11))\n",
            "  Downloading nvidia_cuda_cupti_cu12-12.1.105-py3-none-manylinux1_x86_64.whl.metadata (1.6 kB)\n",
            "Collecting nvidia-cudnn-cu12==8.9.2.26 (from torch==2.3.1->-r requirements.txt (line 11))\n",
            "  Downloading nvidia_cudnn_cu12-8.9.2.26-py3-none-manylinux1_x86_64.whl.metadata (1.6 kB)\n",
            "Collecting nvidia-cublas-cu12==12.1.3.1 (from torch==2.3.1->-r requirements.txt (line 11))\n",
            "  Downloading nvidia_cublas_cu12-12.1.3.1-py3-none-manylinux1_x86_64.whl.metadata (1.5 kB)\n",
            "Collecting nvidia-cufft-cu12==11.0.2.54 (from torch==2.3.1->-r requirements.txt (line 11))\n",
            "  Downloading nvidia_cufft_cu12-11.0.2.54-py3-none-manylinux1_x86_64.whl.metadata (1.5 kB)\n",
            "Collecting nvidia-curand-cu12==10.3.2.106 (from torch==2.3.1->-r requirements.txt (line 11))\n",
            "  Downloading nvidia_curand_cu12-10.3.2.106-py3-none-manylinux1_x86_64.whl.metadata (1.5 kB)\n",
            "Collecting nvidia-cusolver-cu12==11.4.5.107 (from torch==2.3.1->-r requirements.txt (line 11))\n",
            "  Downloading nvidia_cusolver_cu12-11.4.5.107-py3-none-manylinux1_x86_64.whl.metadata (1.6 kB)\n",
            "Collecting nvidia-cusparse-cu12==12.1.0.106 (from torch==2.3.1->-r requirements.txt (line 11))\n",
            "  Downloading nvidia_cusparse_cu12-12.1.0.106-py3-none-manylinux1_x86_64.whl.metadata (1.6 kB)\n",
            "Collecting nvidia-nccl-cu12==2.20.5 (from torch==2.3.1->-r requirements.txt (line 11))\n",
            "  Downloading nvidia_nccl_cu12-2.20.5-py3-none-manylinux2014_x86_64.whl.metadata (1.8 kB)\n",
            "Collecting nvidia-nvtx-cu12==12.1.105 (from torch==2.3.1->-r requirements.txt (line 11))\n",
            "  Downloading nvidia_nvtx_cu12-12.1.105-py3-none-manylinux1_x86_64.whl.metadata (1.7 kB)\n",
            "Collecting triton==2.3.1 (from torch==2.3.1->-r requirements.txt (line 11))\n",
            "  Downloading triton-2.3.1-cp310-cp310-manylinux_2_17_x86_64.manylinux2014_x86_64.whl.metadata (1.4 kB)\n",
            "Requirement already satisfied: nvidia-nvjitlink-cu12 in /usr/local/lib/python3.10/dist-packages (from nvidia-cusolver-cu12==11.4.5.107->torch==2.3.1->-r requirements.txt (line 11)) (12.6.85)\n",
            "Requirement already satisfied: aiohttp!=4.0.0a0,!=4.0.0a1 in /usr/local/lib/python3.10/dist-packages (from fsspec[http]<2026.0,>=2022.5.0->lightning==2.4.0->-r requirements.txt (line 3)) (3.11.9)\n",
            "Requirement already satisfied: setuptools in /usr/local/lib/python3.10/dist-packages (from lightning-utilities<2.0,>=0.10.0->lightning==2.4.0->-r requirements.txt (line 3)) (75.1.0)\n",
            "Requirement already satisfied: six>=1.5 in /usr/local/lib/python3.10/dist-packages (from python-dateutil>=2.8.2->pandas==2.2.3->-r requirements.txt (line 6)) (1.16.0)\n",
            "Requirement already satisfied: MarkupSafe>=2.0 in /usr/local/lib/python3.10/dist-packages (from jinja2->torch==2.3.1->-r requirements.txt (line 11)) (3.0.2)\n",
            "Requirement already satisfied: mpmath<1.4,>=1.1.0 in /usr/local/lib/python3.10/dist-packages (from sympy->torch==2.3.1->-r requirements.txt (line 11)) (1.3.0)\n",
            "Requirement already satisfied: aiohappyeyeballs>=2.3.0 in /usr/local/lib/python3.10/dist-packages (from aiohttp!=4.0.0a0,!=4.0.0a1->fsspec[http]<2026.0,>=2022.5.0->lightning==2.4.0->-r requirements.txt (line 3)) (2.4.4)\n",
            "Requirement already satisfied: aiosignal>=1.1.2 in /usr/local/lib/python3.10/dist-packages (from aiohttp!=4.0.0a0,!=4.0.0a1->fsspec[http]<2026.0,>=2022.5.0->lightning==2.4.0->-r requirements.txt (line 3)) (1.3.1)\n",
            "Requirement already satisfied: async-timeout<6.0,>=4.0 in /usr/local/lib/python3.10/dist-packages (from aiohttp!=4.0.0a0,!=4.0.0a1->fsspec[http]<2026.0,>=2022.5.0->lightning==2.4.0->-r requirements.txt (line 3)) (4.0.3)\n",
            "Requirement already satisfied: attrs>=17.3.0 in /usr/local/lib/python3.10/dist-packages (from aiohttp!=4.0.0a0,!=4.0.0a1->fsspec[http]<2026.0,>=2022.5.0->lightning==2.4.0->-r requirements.txt (line 3)) (24.2.0)\n",
            "Requirement already satisfied: frozenlist>=1.1.1 in /usr/local/lib/python3.10/dist-packages (from aiohttp!=4.0.0a0,!=4.0.0a1->fsspec[http]<2026.0,>=2022.5.0->lightning==2.4.0->-r requirements.txt (line 3)) (1.5.0)\n",
            "Requirement already satisfied: multidict<7.0,>=4.5 in /usr/local/lib/python3.10/dist-packages (from aiohttp!=4.0.0a0,!=4.0.0a1->fsspec[http]<2026.0,>=2022.5.0->lightning==2.4.0->-r requirements.txt (line 3)) (6.1.0)\n",
            "Requirement already satisfied: propcache>=0.2.0 in /usr/local/lib/python3.10/dist-packages (from aiohttp!=4.0.0a0,!=4.0.0a1->fsspec[http]<2026.0,>=2022.5.0->lightning==2.4.0->-r requirements.txt (line 3)) (0.2.1)\n",
            "Requirement already satisfied: yarl<2.0,>=1.17.0 in /usr/local/lib/python3.10/dist-packages (from aiohttp!=4.0.0a0,!=4.0.0a1->fsspec[http]<2026.0,>=2022.5.0->lightning==2.4.0->-r requirements.txt (line 3)) (1.18.3)\n",
            "Requirement already satisfied: idna>=2.0 in /usr/local/lib/python3.10/dist-packages (from yarl<2.0,>=1.17.0->aiohttp!=4.0.0a0,!=4.0.0a1->fsspec[http]<2026.0,>=2022.5.0->lightning==2.4.0->-r requirements.txt (line 3)) (3.10)\n",
            "Downloading info_nce_pytorch-0.1.4-py3-none-any.whl (4.8 kB)\n",
            "Downloading lightning-2.4.0-py3-none-any.whl (810 kB)\n",
            "\u001b[2K   \u001b[90m━━━━━━━━━━━━━━━━━━━━━━━━━━━━━━━━━━━━━━━━\u001b[0m \u001b[32m811.0/811.0 kB\u001b[0m \u001b[31m24.8 MB/s\u001b[0m eta \u001b[36m0:00:00\u001b[0m\n",
            "\u001b[?25hDownloading pandas-2.2.3-cp310-cp310-manylinux_2_17_x86_64.manylinux2014_x86_64.whl (13.1 MB)\n",
            "\u001b[2K   \u001b[90m━━━━━━━━━━━━━━━━━━━━━━━━━━━━━━━━━━━━━━━━\u001b[0m \u001b[32m13.1/13.1 MB\u001b[0m \u001b[31m78.5 MB/s\u001b[0m eta \u001b[36m0:00:00\u001b[0m\n",
            "\u001b[?25hDownloading pytorch_lightning-2.0.3-py3-none-any.whl (720 kB)\n",
            "\u001b[2K   \u001b[90m━━━━━━━━━━━━━━━━━━━━━━━━━━━━━━━━━━━━━━━━\u001b[0m \u001b[32m720.6/720.6 kB\u001b[0m \u001b[31m42.8 MB/s\u001b[0m eta \u001b[36m0:00:00\u001b[0m\n",
            "\u001b[?25hDownloading torch-2.3.1-cp310-cp310-manylinux1_x86_64.whl (779.1 MB)\n",
            "\u001b[2K   \u001b[90m━━━━━━━━━━━━━━━━━━━━━━━━━━━━━━━━━━━━━━━━\u001b[0m \u001b[32m779.1/779.1 MB\u001b[0m \u001b[31m1.7 MB/s\u001b[0m eta \u001b[36m0:00:00\u001b[0m\n",
            "\u001b[?25hDownloading tqdm-4.66.4-py3-none-any.whl (78 kB)\n",
            "\u001b[2K   \u001b[90m━━━━━━━━━━━━━━━━━━━━━━━━━━━━━━━━━━━━━━━━\u001b[0m \u001b[32m78.3/78.3 kB\u001b[0m \u001b[31m5.3 MB/s\u001b[0m eta \u001b[36m0:00:00\u001b[0m\n",
            "\u001b[?25hDownloading nvidia_cublas_cu12-12.1.3.1-py3-none-manylinux1_x86_64.whl (410.6 MB)\n",
            "\u001b[2K   \u001b[90m━━━━━━━━━━━━━━━━━━━━━━━━━━━━━━━━━━━━━━━━\u001b[0m \u001b[32m410.6/410.6 MB\u001b[0m \u001b[31m2.2 MB/s\u001b[0m eta \u001b[36m0:00:00\u001b[0m\n",
            "\u001b[?25hDownloading nvidia_cuda_cupti_cu12-12.1.105-py3-none-manylinux1_x86_64.whl (14.1 MB)\n",
            "\u001b[2K   \u001b[90m━━━━━━━━━━━━━━━━━━━━━━━━━━━━━━━━━━━━━━━━\u001b[0m \u001b[32m14.1/14.1 MB\u001b[0m \u001b[31m72.7 MB/s\u001b[0m eta \u001b[36m0:00:00\u001b[0m\n",
            "\u001b[?25hDownloading nvidia_cuda_nvrtc_cu12-12.1.105-py3-none-manylinux1_x86_64.whl (23.7 MB)\n",
            "\u001b[2K   \u001b[90m━━━━━━━━━━━━━━━━━━━━━━━━━━━━━━━━━━━━━━━━\u001b[0m \u001b[32m23.7/23.7 MB\u001b[0m \u001b[31m59.6 MB/s\u001b[0m eta \u001b[36m0:00:00\u001b[0m\n",
            "\u001b[?25hDownloading nvidia_cuda_runtime_cu12-12.1.105-py3-none-manylinux1_x86_64.whl (823 kB)\n",
            "\u001b[2K   \u001b[90m━━━━━━━━━━━━━━━━━━━━━━━━━━━━━━━━━━━━━━━━\u001b[0m \u001b[32m823.6/823.6 kB\u001b[0m \u001b[31m44.7 MB/s\u001b[0m eta \u001b[36m0:00:00\u001b[0m\n",
            "\u001b[?25hDownloading nvidia_cudnn_cu12-8.9.2.26-py3-none-manylinux1_x86_64.whl (731.7 MB)\n",
            "\u001b[2K   \u001b[90m━━━━━━━━━━━━━━━━━━━━━━━━━━━━━━━━━━━━━━━━\u001b[0m \u001b[32m731.7/731.7 MB\u001b[0m \u001b[31m2.7 MB/s\u001b[0m eta \u001b[36m0:00:00\u001b[0m\n",
            "\u001b[?25hDownloading nvidia_cufft_cu12-11.0.2.54-py3-none-manylinux1_x86_64.whl (121.6 MB)\n",
            "\u001b[2K   \u001b[90m━━━━━━━━━━━━━━━━━━━━━━━━━━━━━━━━━━━━━━━━\u001b[0m \u001b[32m121.6/121.6 MB\u001b[0m \u001b[31m7.6 MB/s\u001b[0m eta \u001b[36m0:00:00\u001b[0m\n",
            "\u001b[?25hDownloading nvidia_curand_cu12-10.3.2.106-py3-none-manylinux1_x86_64.whl (56.5 MB)\n",
            "\u001b[2K   \u001b[90m━━━━━━━━━━━━━━━━━━━━━━━━━━━━━━━━━━━━━━━━\u001b[0m \u001b[32m56.5/56.5 MB\u001b[0m \u001b[31m12.5 MB/s\u001b[0m eta \u001b[36m0:00:00\u001b[0m\n",
            "\u001b[?25hDownloading nvidia_cusolver_cu12-11.4.5.107-py3-none-manylinux1_x86_64.whl (124.2 MB)\n",
            "\u001b[2K   \u001b[90m━━━━━━━━━━━━━━━━━━━━━━━━━━━━━━━━━━━━━━━━\u001b[0m \u001b[32m124.2/124.2 MB\u001b[0m \u001b[31m7.5 MB/s\u001b[0m eta \u001b[36m0:00:00\u001b[0m\n",
            "\u001b[?25hDownloading nvidia_cusparse_cu12-12.1.0.106-py3-none-manylinux1_x86_64.whl (196.0 MB)\n",
            "\u001b[2K   \u001b[90m━━━━━━━━━━━━━━━━━━━━━━━━━━━━━━━━━━━━━━━━\u001b[0m \u001b[32m196.0/196.0 MB\u001b[0m \u001b[31m6.5 MB/s\u001b[0m eta \u001b[36m0:00:00\u001b[0m\n",
            "\u001b[?25hDownloading nvidia_nccl_cu12-2.20.5-py3-none-manylinux2014_x86_64.whl (176.2 MB)\n",
            "\u001b[2K   \u001b[90m━━━━━━━━━━━━━━━━━━━━━━━━━━━━━━━━━━━━━━━━\u001b[0m \u001b[32m176.2/176.2 MB\u001b[0m \u001b[31m5.9 MB/s\u001b[0m eta \u001b[36m0:00:00\u001b[0m\n",
            "\u001b[?25hDownloading nvidia_nvtx_cu12-12.1.105-py3-none-manylinux1_x86_64.whl (99 kB)\n",
            "\u001b[2K   \u001b[90m━━━━━━━━━━━━━━━━━━━━━━━━━━━━━━━━━━━━━━━━\u001b[0m \u001b[32m99.1/99.1 kB\u001b[0m \u001b[31m9.0 MB/s\u001b[0m eta \u001b[36m0:00:00\u001b[0m\n",
            "\u001b[?25hDownloading triton-2.3.1-cp310-cp310-manylinux_2_17_x86_64.manylinux2014_x86_64.whl (168.1 MB)\n",
            "\u001b[2K   \u001b[90m━━━━━━━━━━━━━━━━━━━━━━━━━━━━━━━━━━━━━━━━\u001b[0m \u001b[32m168.1/168.1 MB\u001b[0m \u001b[31m6.6 MB/s\u001b[0m eta \u001b[36m0:00:00\u001b[0m\n",
            "\u001b[?25hDownloading lightning_utilities-0.11.9-py3-none-any.whl (28 kB)\n",
            "Downloading torchmetrics-1.6.0-py3-none-any.whl (926 kB)\n",
            "\u001b[2K   \u001b[90m━━━━━━━━━━━━━━━━━━━━━━━━━━━━━━━━━━━━━━━━\u001b[0m \u001b[32m926.4/926.4 kB\u001b[0m \u001b[31m55.3 MB/s\u001b[0m eta \u001b[36m0:00:00\u001b[0m\n",
            "\u001b[?25hBuilding wheels for collected packages: geomloss\n",
            "  Building wheel for geomloss (setup.py) ... \u001b[?25l\u001b[?25hdone\n",
            "  Created wheel for geomloss: filename=geomloss-0.2.6-py3-none-any.whl size=32246 sha256=46c4b42888a514bb1d777a8d796ec8e40672ebbad7915608ebe01aef5d4c7cb8\n",
            "  Stored in directory: /root/.cache/pip/wheels/0d/c9/80/4387eb03aa215ae557869d6fe8be498fd3d3cf297db2357b67\n",
            "Successfully built geomloss\n",
            "Installing collected packages: triton, tqdm, nvidia-nvtx-cu12, nvidia-nccl-cu12, nvidia-cusparse-cu12, nvidia-curand-cu12, nvidia-cufft-cu12, nvidia-cuda-runtime-cu12, nvidia-cuda-nvrtc-cu12, nvidia-cuda-cupti-cu12, nvidia-cublas-cu12, lightning-utilities, pandas, nvidia-cusolver-cu12, nvidia-cudnn-cu12, torch, torchmetrics, info_nce_pytorch, geomloss, pytorch_lightning, lightning\n",
            "  Attempting uninstall: tqdm\n",
            "    Found existing installation: tqdm 4.66.6\n",
            "    Uninstalling tqdm-4.66.6:\n",
            "      Successfully uninstalled tqdm-4.66.6\n",
            "  Attempting uninstall: nvidia-nccl-cu12\n",
            "    Found existing installation: nvidia-nccl-cu12 2.23.4\n",
            "    Uninstalling nvidia-nccl-cu12-2.23.4:\n",
            "      Successfully uninstalled nvidia-nccl-cu12-2.23.4\n",
            "  Attempting uninstall: nvidia-cusparse-cu12\n",
            "    Found existing installation: nvidia-cusparse-cu12 12.5.4.2\n",
            "    Uninstalling nvidia-cusparse-cu12-12.5.4.2:\n",
            "      Successfully uninstalled nvidia-cusparse-cu12-12.5.4.2\n",
            "  Attempting uninstall: nvidia-curand-cu12\n",
            "    Found existing installation: nvidia-curand-cu12 10.3.7.77\n",
            "    Uninstalling nvidia-curand-cu12-10.3.7.77:\n",
            "      Successfully uninstalled nvidia-curand-cu12-10.3.7.77\n",
            "  Attempting uninstall: nvidia-cufft-cu12\n",
            "    Found existing installation: nvidia-cufft-cu12 11.3.0.4\n",
            "    Uninstalling nvidia-cufft-cu12-11.3.0.4:\n",
            "      Successfully uninstalled nvidia-cufft-cu12-11.3.0.4\n",
            "  Attempting uninstall: nvidia-cuda-runtime-cu12\n",
            "    Found existing installation: nvidia-cuda-runtime-cu12 12.6.77\n",
            "    Uninstalling nvidia-cuda-runtime-cu12-12.6.77:\n",
            "      Successfully uninstalled nvidia-cuda-runtime-cu12-12.6.77\n",
            "  Attempting uninstall: nvidia-cuda-cupti-cu12\n",
            "    Found existing installation: nvidia-cuda-cupti-cu12 12.6.80\n",
            "    Uninstalling nvidia-cuda-cupti-cu12-12.6.80:\n",
            "      Successfully uninstalled nvidia-cuda-cupti-cu12-12.6.80\n",
            "  Attempting uninstall: nvidia-cublas-cu12\n",
            "    Found existing installation: nvidia-cublas-cu12 12.6.4.1\n",
            "    Uninstalling nvidia-cublas-cu12-12.6.4.1:\n",
            "      Successfully uninstalled nvidia-cublas-cu12-12.6.4.1\n",
            "  Attempting uninstall: pandas\n",
            "    Found existing installation: pandas 2.2.2\n",
            "    Uninstalling pandas-2.2.2:\n",
            "      Successfully uninstalled pandas-2.2.2\n",
            "  Attempting uninstall: nvidia-cusolver-cu12\n",
            "    Found existing installation: nvidia-cusolver-cu12 11.7.1.2\n",
            "    Uninstalling nvidia-cusolver-cu12-11.7.1.2:\n",
            "      Successfully uninstalled nvidia-cusolver-cu12-11.7.1.2\n",
            "  Attempting uninstall: nvidia-cudnn-cu12\n",
            "    Found existing installation: nvidia-cudnn-cu12 9.6.0.74\n",
            "    Uninstalling nvidia-cudnn-cu12-9.6.0.74:\n",
            "      Successfully uninstalled nvidia-cudnn-cu12-9.6.0.74\n",
            "  Attempting uninstall: torch\n",
            "    Found existing installation: torch 2.5.1+cu121\n",
            "    Uninstalling torch-2.5.1+cu121:\n",
            "      Successfully uninstalled torch-2.5.1+cu121\n",
            "\u001b[31mERROR: pip's dependency resolver does not currently take into account all the packages that are installed. This behaviour is the source of the following dependency conflicts.\n",
            "cudf-cu12 24.10.1 requires pandas<2.2.3dev0,>=2.0, but you have pandas 2.2.3 which is incompatible.\n",
            "google-colab 1.0.0 requires pandas==2.2.2, but you have pandas 2.2.3 which is incompatible.\n",
            "torchaudio 2.5.1+cu121 requires torch==2.5.1, but you have torch 2.3.1 which is incompatible.\n",
            "torchvision 0.20.1+cu121 requires torch==2.5.1, but you have torch 2.3.1 which is incompatible.\u001b[0m\u001b[31m\n",
            "\u001b[0mSuccessfully installed geomloss-0.2.6 info_nce_pytorch-0.1.4 lightning-2.4.0 lightning-utilities-0.11.9 nvidia-cublas-cu12-12.1.3.1 nvidia-cuda-cupti-cu12-12.1.105 nvidia-cuda-nvrtc-cu12-12.1.105 nvidia-cuda-runtime-cu12-12.1.105 nvidia-cudnn-cu12-8.9.2.26 nvidia-cufft-cu12-11.0.2.54 nvidia-curand-cu12-10.3.2.106 nvidia-cusolver-cu12-11.4.5.107 nvidia-cusparse-cu12-12.1.0.106 nvidia-nccl-cu12-2.20.5 nvidia-nvtx-cu12-12.1.105 pandas-2.2.3 pytorch_lightning-2.0.3 torch-2.3.1 torchmetrics-1.6.0 tqdm-4.66.4 triton-2.3.1\n"
          ]
        }
      ]
    },
    {
      "cell_type": "code",
      "source": [
        "!pip install --upgrade geomloss"
      ],
      "metadata": {
        "colab": {
          "base_uri": "https://localhost:8080/"
        },
        "id": "V9zzz0iUqoNn",
        "outputId": "3c8b51cf-de55-4902-8561-10036c1cad1c"
      },
      "execution_count": null,
      "outputs": [
        {
          "output_type": "stream",
          "name": "stdout",
          "text": [
            "Requirement already satisfied: geomloss in /usr/local/lib/python3.10/dist-packages (0.2.6)\n",
            "Requirement already satisfied: numpy in /usr/local/lib/python3.10/dist-packages (from geomloss) (1.26.4)\n",
            "Requirement already satisfied: torch in /usr/local/lib/python3.10/dist-packages (from geomloss) (2.3.1)\n",
            "Requirement already satisfied: filelock in /usr/local/lib/python3.10/dist-packages (from torch->geomloss) (3.16.1)\n",
            "Requirement already satisfied: typing-extensions>=4.8.0 in /usr/local/lib/python3.10/dist-packages (from torch->geomloss) (4.12.2)\n",
            "Requirement already satisfied: sympy in /usr/local/lib/python3.10/dist-packages (from torch->geomloss) (1.13.1)\n",
            "Requirement already satisfied: networkx in /usr/local/lib/python3.10/dist-packages (from torch->geomloss) (3.4.2)\n",
            "Requirement already satisfied: jinja2 in /usr/local/lib/python3.10/dist-packages (from torch->geomloss) (3.1.4)\n",
            "Requirement already satisfied: fsspec in /usr/local/lib/python3.10/dist-packages (from torch->geomloss) (2024.10.0)\n",
            "Requirement already satisfied: nvidia-cuda-nvrtc-cu12==12.1.105 in /usr/local/lib/python3.10/dist-packages (from torch->geomloss) (12.1.105)\n",
            "Requirement already satisfied: nvidia-cuda-runtime-cu12==12.1.105 in /usr/local/lib/python3.10/dist-packages (from torch->geomloss) (12.1.105)\n",
            "Requirement already satisfied: nvidia-cuda-cupti-cu12==12.1.105 in /usr/local/lib/python3.10/dist-packages (from torch->geomloss) (12.1.105)\n",
            "Requirement already satisfied: nvidia-cudnn-cu12==8.9.2.26 in /usr/local/lib/python3.10/dist-packages (from torch->geomloss) (8.9.2.26)\n",
            "Requirement already satisfied: nvidia-cublas-cu12==12.1.3.1 in /usr/local/lib/python3.10/dist-packages (from torch->geomloss) (12.1.3.1)\n",
            "Requirement already satisfied: nvidia-cufft-cu12==11.0.2.54 in /usr/local/lib/python3.10/dist-packages (from torch->geomloss) (11.0.2.54)\n",
            "Requirement already satisfied: nvidia-curand-cu12==10.3.2.106 in /usr/local/lib/python3.10/dist-packages (from torch->geomloss) (10.3.2.106)\n",
            "Requirement already satisfied: nvidia-cusolver-cu12==11.4.5.107 in /usr/local/lib/python3.10/dist-packages (from torch->geomloss) (11.4.5.107)\n",
            "Requirement already satisfied: nvidia-cusparse-cu12==12.1.0.106 in /usr/local/lib/python3.10/dist-packages (from torch->geomloss) (12.1.0.106)\n",
            "Requirement already satisfied: nvidia-nccl-cu12==2.20.5 in /usr/local/lib/python3.10/dist-packages (from torch->geomloss) (2.20.5)\n",
            "Requirement already satisfied: nvidia-nvtx-cu12==12.1.105 in /usr/local/lib/python3.10/dist-packages (from torch->geomloss) (12.1.105)\n",
            "Requirement already satisfied: triton==2.3.1 in /usr/local/lib/python3.10/dist-packages (from torch->geomloss) (2.3.1)\n",
            "Requirement already satisfied: nvidia-nvjitlink-cu12 in /usr/local/lib/python3.10/dist-packages (from nvidia-cusolver-cu12==11.4.5.107->torch->geomloss) (12.6.85)\n",
            "Requirement already satisfied: MarkupSafe>=2.0 in /usr/local/lib/python3.10/dist-packages (from jinja2->torch->geomloss) (3.0.2)\n",
            "Requirement already satisfied: mpmath<1.4,>=1.1.0 in /usr/local/lib/python3.10/dist-packages (from sympy->torch->geomloss) (1.3.0)\n"
          ]
        }
      ]
    },
    {
      "cell_type": "code",
      "source": [
        "!pip install pykeops"
      ],
      "metadata": {
        "colab": {
          "base_uri": "https://localhost:8080/"
        },
        "id": "wU0ikErNrlwR",
        "outputId": "2984aa71-fb09-4b43-e573-80186766aefe"
      },
      "execution_count": null,
      "outputs": [
        {
          "output_type": "stream",
          "name": "stdout",
          "text": [
            "Collecting pykeops\n",
            "  Downloading pykeops-2.2.3.tar.gz (92 kB)\n",
            "\u001b[?25l     \u001b[90m━━━━━━━━━━━━━━━━━━━━━━━━━━━━━━━━━━━━━━━━\u001b[0m \u001b[32m0.0/92.5 kB\u001b[0m \u001b[31m?\u001b[0m eta \u001b[36m-:--:--\u001b[0m\r\u001b[2K     \u001b[90m━━━━━━━━━━━━━━━━━━━━━━━━━━━━━━━━━━━━━━━━\u001b[0m \u001b[32m92.5/92.5 kB\u001b[0m \u001b[31m6.4 MB/s\u001b[0m eta \u001b[36m0:00:00\u001b[0m\n",
            "\u001b[?25h  Preparing metadata (setup.py) ... \u001b[?25l\u001b[?25hdone\n",
            "Requirement already satisfied: numpy in /usr/local/lib/python3.10/dist-packages (from pykeops) (1.26.4)\n",
            "Collecting pybind11 (from pykeops)\n",
            "  Downloading pybind11-2.13.6-py3-none-any.whl.metadata (9.5 kB)\n",
            "Collecting keopscore==2.2.3 (from pykeops)\n",
            "  Downloading keopscore-2.2.3.tar.gz (100 kB)\n",
            "\u001b[2K     \u001b[90m━━━━━━━━━━━━━━━━━━━━━━━━━━━━━━━━━━━━━━━━\u001b[0m \u001b[32m100.3/100.3 kB\u001b[0m \u001b[31m6.3 MB/s\u001b[0m eta \u001b[36m0:00:00\u001b[0m\n",
            "\u001b[?25h  Preparing metadata (setup.py) ... \u001b[?25l\u001b[?25hdone\n",
            "Downloading pybind11-2.13.6-py3-none-any.whl (243 kB)\n",
            "\u001b[2K   \u001b[90m━━━━━━━━━━━━━━━━━━━━━━━━━━━━━━━━━━━━━━━━\u001b[0m \u001b[32m243.3/243.3 kB\u001b[0m \u001b[31m19.0 MB/s\u001b[0m eta \u001b[36m0:00:00\u001b[0m\n",
            "\u001b[?25hBuilding wheels for collected packages: pykeops, keopscore\n",
            "  Building wheel for pykeops (setup.py) ... \u001b[?25l\u001b[?25hdone\n",
            "  Created wheel for pykeops: filename=pykeops-2.2.3-py3-none-any.whl size=118636 sha256=89a20cfa1a733ace0f7d042a3d0b79c992a6b3b9feb324ad7962b2446bb20802\n",
            "  Stored in directory: /root/.cache/pip/wheels/37/8b/c7/25e5194a7138fd564c3ef3e275ae0155c207cd85d7ab347817\n",
            "  Building wheel for keopscore (setup.py) ... \u001b[?25l\u001b[?25hdone\n",
            "  Created wheel for keopscore: filename=keopscore-2.2.3-py3-none-any.whl size=172483 sha256=6a6fbe1d3ef48264098818cc642fd6bd7ba2d409184d6ea6ef42701168ceeed1\n",
            "  Stored in directory: /root/.cache/pip/wheels/3d/d8/ee/29900acfbbd7ee0f3b05981d3d172baad4c3b5d40cbf4c5d74\n",
            "Successfully built pykeops keopscore\n",
            "Installing collected packages: pybind11, keopscore, pykeops\n",
            "Successfully installed keopscore-2.2.3 pybind11-2.13.6 pykeops-2.2.3\n"
          ]
        }
      ]
    },
    {
      "cell_type": "code",
      "source": [
        "!bash scripts/run.sh"
      ],
      "metadata": {
        "colab": {
          "base_uri": "https://localhost:8080/"
        },
        "id": "Ph9jiIURbl8A",
        "outputId": "e1d18d8b-8de9-4d7c-e917-e4ee8deac533"
      },
      "execution_count": null,
      "outputs": [
        {
          "output_type": "stream",
          "name": "stdout",
          "text": [
            "Generating platform anomalies in data/mot_platform_1_scaled/\n",
            "Broadcasted value for level_h0: 0.2\n",
            "Broadcasted value for level_h1: 0.7\n",
            "Broadcasted value for length_h0: 0.1\n",
            "Broadcasted value for length_h1: 0.6\n",
            "Randomly selected values for start: [0.42 0.31 0.25 0.13 0.15]... (first 5 values)\n",
            "100% 10000/10000 [00:00<00:00, 37590.07it/s]\n",
            "Meta data saved to data/mot_platform_1_scaled/meta_data.parquet\n",
            "Normals saved to data/mot_platform_1_scaled/normal.parquet\n",
            "Anomalies saved to data/mot_platform_1_scaled/generated_tsa.parquet\n",
            "Generating mean anomalies in data/mot_mean_1_scaled/\n",
            "Broadcasted value for level_h0: 0.7\n",
            "Broadcasted value for level_h1: 0.2\n",
            "Broadcasted value for length_h0: 0.2\n",
            "Broadcasted value for length_h1: 0.2\n",
            "Randomly selected values for start: [0.23 0.25 0.37 0.47 0.01]... (first 5 values)\n",
            "100% 10000/10000 [00:00<00:00, 43773.79it/s]\n",
            "Meta data saved to data/mot_mean_1_scaled/meta_data.parquet\n",
            "Normals saved to data/mot_mean_1_scaled/normal.parquet\n",
            "Anomalies saved to data/mot_mean_1_scaled/generated_tsa.parquet\n",
            "Successfully merge mot_platform_1_scaled and mot_mean_1_scaled to mot_mix_1_hist\n",
            "[KeOps] Compiling cuda jit compiler engine ... OK\n",
            "[pyKeOps] Compiling nvrtc binder for python ... OK\n",
            "There are 1 GPU(s) available.\n",
            "Device name: Tesla T4\n",
            "Global seed set to 0\n",
            "/usr/local/lib/python3.10/dist-packages/torch/utils/data/dataloader.py:558: UserWarning: This DataLoader will create 12 worker processes in total. Our suggested max number of worker in current system is 2, which is smaller than what this DataLoader is going to create. Please be aware that excessive worker creation might get DataLoader running slow or even freeze, lower the worker number to avoid potential slowness/freeze if necessary.\n",
            "  warnings.warn(_create_warning_msg(\n",
            "Epoch 0: 100% 113/113 [00:06<00:00, 17.23it/s, v_num=0, train_loss=1.540]\n",
            "Validation: 0it [00:00, ?it/s]\u001b[A\n",
            "Validation:   0% 0/13 [00:00<?, ?it/s]\u001b[A\n",
            "Validation DataLoader 0:   0% 0/13 [00:00<?, ?it/s]\u001b[A\n",
            "Epoch 0: 100% 113/113 [00:07<00:00, 15.42it/s, v_num=0, train_loss=1.540, loss_global=0.00846, loss_local=1.320, loss_normal=0.00296, val_loss=1.330]\n",
            "Epoch 1: 100% 113/113 [00:06<00:00, 17.49it/s, v_num=0, train_loss=0.726, loss_global=0.00846, loss_local=1.320, loss_normal=0.00296, val_loss=1.330]\n",
            "Validation: 0it [00:00, ?it/s]\u001b[A\n",
            "Validation:   0% 0/13 [00:00<?, ?it/s]\u001b[A\n",
            "Validation DataLoader 0:   0% 0/13 [00:00<?, ?it/s]\u001b[A\n",
            "Epoch 1: 100% 113/113 [00:08<00:00, 14.10it/s, v_num=0, train_loss=0.726, loss_global=0.0066, loss_local=1.060, loss_normal=0.00193, val_loss=1.060] \n",
            "Epoch 2: 100% 113/113 [00:05<00:00, 21.82it/s, v_num=0, train_loss=0.858, loss_global=0.0066, loss_local=1.060, loss_normal=0.00193, val_loss=1.060]\n",
            "Validation: 0it [00:00, ?it/s]\u001b[A\n",
            "Validation:   0% 0/13 [00:00<?, ?it/s]\u001b[A\n",
            "Validation DataLoader 0:   0% 0/13 [00:00<?, ?it/s]\u001b[A\n",
            "Epoch 2: 100% 113/113 [00:06<00:00, 18.47it/s, v_num=0, train_loss=0.858, loss_global=0.00573, loss_local=0.924, loss_normal=0.00151, val_loss=0.931]\n",
            "Epoch 3: 100% 113/113 [00:04<00:00, 23.77it/s, v_num=0, train_loss=0.881, loss_global=0.00573, loss_local=0.924, loss_normal=0.00151, val_loss=0.931]\n",
            "Validation: 0it [00:00, ?it/s]\u001b[A\n",
            "Validation:   0% 0/13 [00:00<?, ?it/s]\u001b[A\n",
            "Validation DataLoader 0:   0% 0/13 [00:00<?, ?it/s]\u001b[A\n",
            "Epoch 3: 100% 113/113 [00:06<00:00, 18.57it/s, v_num=0, train_loss=0.881, loss_global=0.00449, loss_local=0.791, loss_normal=0.00171, val_loss=0.797]\n",
            "Epoch 4: 100% 113/113 [00:07<00:00, 15.33it/s, v_num=0, train_loss=0.365, loss_global=0.00449, loss_local=0.791, loss_normal=0.00171, val_loss=0.797]\n",
            "Validation: 0it [00:00, ?it/s]\u001b[A\n",
            "Validation:   0% 0/13 [00:00<?, ?it/s]\u001b[A\n",
            "Validation DataLoader 0:   0% 0/13 [00:00<?, ?it/s]\u001b[A\n",
            "Epoch 4: 100% 113/113 [00:08<00:00, 12.66it/s, v_num=0, train_loss=0.365, loss_global=0.00228, loss_local=0.789, loss_normal=0.00128, val_loss=0.792]\n",
            "Epoch 4: 100% 113/113 [00:08<00:00, 12.60it/s, v_num=0, train_loss=0.365, loss_global=0.00228, loss_local=0.789, loss_normal=0.00128, val_loss=0.792]\n",
            "[KeOps] Generating code for Max_SumShiftExpWeight_Reduction reduction (with parameters 0) of formula [c-1/2*(d*Sum((a-b)**2)),1] with a=Var(0,128,0), b=Var(1,128,1), c=Var(2,1,1), d=Var(3,1,2) ... OK\n",
            "Figure(800x600)\n",
            "\u001b[34mGround truth point:\u001b[0m {'ratio_0': 0.05, 'ratio_1': 0.05, 'length_0_h0': 0.1, 'length_0_h1': 0.6, 'level_0_h0': 0.2, 'level_0_h1': 0.7, 'length_1_h0': 0.2, 'length_1_h1': 0.2, 'level_1_h0': 0.7, 'level_1_h1': 0.2}\n",
            "\u001b[34mBest target value :\u001b[0m -0.04203284531831741\n",
            "\u001b[34mBest F1-Score     :\u001b[0m 0.8328969963122484\n",
            "\n",
            "Iteration 0\n",
            "Next point to probe is: {'ratio_0': 0.171, 'ratio_1': 0.176, 'length_0_h0': 0.988, 'length_0_h1': 0.376, 'level_0_h0': 0.135, 'level_0_h1': 0.003, 'length_1_h0': 0.23, 'length_1_h1': 0.257, 'level_1_h0': 0.108, 'level_1_h1': 0.11}\n",
            "Found the target value to be: -10\n",
            "Test F1-Score: 0\n",
            "\u001b[31mBest!\u001b[0m\n",
            "\n",
            "Iteration 1\n",
            "Next point to probe is: {'ratio_0': 0.065, 'ratio_1': 0.162, 'length_0_h0': 0.999, 'length_0_h1': 0.944, 'level_0_h0': 0.599, 'level_0_h1': 0.341, 'length_1_h0': 0.324, 'length_1_h1': 0.169, 'level_1_h0': 0.77, 'level_1_h1': 0.338}\n",
            "Found the target value to be: -10\n",
            "Test F1-Score: 0\n",
            "\n",
            "Iteration 2\n",
            "Next point to probe is: {'ratio_0': 0.024, 'ratio_1': 0.07, 'length_0_h0': 0.801, 'length_0_h1': 0.523, 'level_0_h0': 0.696, 'level_0_h1': 0.249, 'length_1_h0': 0.334, 'length_1_h1': 0.035, 'level_1_h0': 0.183, 'level_1_h1': 0.028}\n",
            "Found the target value to be: -10\n",
            "Test F1-Score: 0\n",
            "\n",
            "Iteration 3\n",
            "Next point to probe is: {'ratio_0': 0.053, 'ratio_1': 0.012, 'length_0_h0': 0.652, 'length_0_h1': 0.957, 'level_0_h0': 0.376, 'level_0_h1': 0.259, 'length_1_h0': 0.766, 'length_1_h1': 0.369, 'level_1_h0': 0.266, 'level_1_h1': 0.417}\n",
            "Found the target value to be: -10\n",
            "Test F1-Score: 0\n",
            "\n",
            "Iteration 4\n",
            "Next point to probe is: {'ratio_0': 0.053, 'ratio_1': 0.032, 'length_0_h0': 0.161, 'length_0_h1': 0.005, 'level_0_h0': 0.639, 'level_0_h1': 0.301, 'length_1_h0': 0.535, 'length_1_h1': 0.623, 'level_1_h0': 0.276, 'level_1_h1': 0.097}\n",
            "Found the target value to be: -10\n",
            "Test F1-Score: 0\n",
            "\n",
            "Iteration 5\n",
            "Next point to probe is: {'ratio_0': 0.048, 'ratio_1': 0.13, 'length_0_h0': 0.664, 'length_0_h1': 0.22, 'level_0_h0': 0.871, 'level_0_h1': 0.053, 'length_1_h0': 0.31, 'length_1_h1': 0.155, 'level_1_h0': 0.698, 'level_1_h1': 0.405}\n",
            "Found the target value to be: -10\n",
            "Test F1-Score: 0\n",
            "\n",
            "Iteration 6\n",
            "Next point to probe is: {'ratio_0': 0.113, 'ratio_1': 0.054, 'length_0_h0': 0.867, 'length_0_h1': 0.297, 'level_0_h0': 0.983, 'level_0_h1': 0.311, 'length_1_h0': 0.632, 'length_1_h1': 0.933, 'level_1_h0': 0.6, 'level_1_h1': 0.281}\n",
            "Found the target value to be: -10\n",
            "Test F1-Score: 0\n",
            "\n",
            "Iteration 7\n",
            "Next point to probe is: {'ratio_0': 0.145, 'ratio_1': 0.113, 'length_0_h0': 0.73, 'length_0_h1': 0.756, 'level_0_h0': 0.165, 'level_0_h1': 0.495, 'length_1_h0': 0.947, 'length_1_h1': 0.128, 'level_1_h0': 0.2, 'level_1_h1': 0.054}\n",
            "Found the target value to be: -10\n",
            "Test F1-Score: 0\n",
            "\n",
            "Iteration 8\n",
            "Next point to probe is: {'ratio_0': 0.117, 'ratio_1': 0.039, 'length_0_h0': 0.151, 'length_0_h1': 0.96, 'level_0_h0': 0.31, 'level_0_h1': 0.738, 'length_1_h0': 0.61, 'length_1_h1': 0.003, 'level_1_h0': 0.546, 'level_1_h1': 0.507}\n",
            "Found the target value to be: -10\n",
            "Test F1-Score: 0\n",
            "\n",
            "Iteration 9\n",
            "Next point to probe is: {'ratio_0': 0.089, 'ratio_1': 0.019, 'length_0_h0': 0.232, 'length_0_h1': 0.646, 'level_0_h0': 0.981, 'level_0_h1': 0.285, 'length_1_h0': 0.898, 'length_1_h1': 0.364, 'level_1_h0': 0.638, 'level_1_h1': 0.043}\n",
            "Found the target value to be: -10\n",
            "Test F1-Score: 0\n",
            "\n",
            "Iteration 10\n",
            "Next point to probe is: {'length_0_h0': 0.538, 'length_0_h1': 0.922, 'length_1_h0': 0.021, 'length_1_h1': 0.997, 'level_0_h0': 0.619, 'level_0_h1': 0.996, 'level_1_h0': 0.888, 'level_1_h1': 0.983, 'ratio_0': 0.196, 'ratio_1': 0.195}\n",
            "Found the target value to be: -10\n",
            "Test F1-Score: 0\n",
            "\n",
            "Iteration 11\n",
            "Next point to probe is: {'length_0_h0': 0.163, 'length_0_h1': 0.973, 'length_1_h0': 0.017, 'length_1_h1': 0.975, 'level_0_h0': 0.041, 'level_0_h1': 0.936, 'level_1_h0': 0.186, 'level_1_h1': 0.943, 'ratio_0': 0.09, 'ratio_1': 0.132}\n",
            "Found the target value to be: -10\n",
            "Test F1-Score: 0\n",
            "\n",
            "Iteration 12\n",
            "Next point to probe is: {'length_0_h0': 0.06, 'length_0_h1': 0.04, 'length_1_h0': 0.258, 'length_1_h1': 0.959, 'level_0_h0': 0.967, 'level_0_h1': 0.089, 'level_1_h0': 0.898, 'level_1_h1': 0.934, 'ratio_0': 0.097, 'ratio_1': 0.05}\n",
            "Found the target value to be: -10\n",
            "Test F1-Score: 0\n",
            "\n",
            "Iteration 13\n",
            "Next point to probe is: {'length_0_h0': 0.625, 'length_0_h1': 0.03, 'length_1_h0': 0.917, 'length_1_h1': 0.302, 'level_0_h0': 0.006, 'level_0_h1': 0.808, 'level_1_h0': 0.991, 'level_1_h1': 0.97, 'ratio_0': 0.012, 'ratio_1': 0.038}\n",
            "Found the target value to be: -10\n",
            "Test F1-Score: 0\n",
            "\n",
            "Iteration 14\n",
            "Next point to probe is: {'length_0_h0': 0.99, 'length_0_h1': 0.595, 'length_1_h0': 0.03, 'length_1_h1': 0.989, 'level_0_h0': 0.014, 'level_0_h1': 0.936, 'level_1_h0': 0.994, 'level_1_h1': 0.963, 'ratio_0': 0.165, 'ratio_1': 0.168}\n",
            "Found the target value to be: -10\n",
            "Test F1-Score: 0\n",
            "\n",
            "Iteration 15\n",
            "Next point to probe is: {'length_0_h0': 0.051, 'length_0_h1': 0.943, 'length_1_h0': 0.946, 'length_1_h1': 0.988, 'level_0_h0': 0.032, 'level_0_h1': 0.16, 'level_1_h0': 0.016, 'level_1_h1': 0.192, 'ratio_0': 0.198, 'ratio_1': 0.037}\n",
            "Found the target value to be: -10\n",
            "Test F1-Score: 0\n",
            "\n",
            "Iteration 16\n",
            "Next point to probe is: {'length_0_h0': 0.344, 'length_0_h1': 0.008, 'length_1_h0': 0.183, 'length_1_h1': 0.002, 'level_0_h0': 0.976, 'level_0_h1': 0.888, 'level_1_h0': 0.953, 'level_1_h1': 0.982, 'ratio_0': 0.018, 'ratio_1': 0.104}\n",
            "Found the target value to be: -10\n",
            "Test F1-Score: 0\n",
            "\n",
            "Iteration 17\n",
            "Next point to probe is: {'length_0_h0': 0.084, 'length_0_h1': 0.01, 'length_1_h0': 0.011, 'length_1_h1': 0.919, 'level_0_h0': 0.944, 'level_0_h1': 0.946, 'level_1_h0': 0.922, 'level_1_h1': 0.122, 'ratio_0': 0.071, 'ratio_1': 0.14}\n",
            "Found the target value to be: -10\n",
            "Test F1-Score: 0\n",
            "\n",
            "Iteration 18\n",
            "Next point to probe is: {'length_0_h0': 0.97, 'length_0_h1': 0.056, 'length_1_h0': 0.996, 'length_1_h1': 0.986, 'level_0_h0': 0.975, 'level_0_h1': 0.334, 'level_1_h0': 0.052, 'level_1_h1': 0.978, 'ratio_0': 0.116, 'ratio_1': 0.142}\n",
            "Found the target value to be: -10\n",
            "Test F1-Score: 0\n",
            "\n",
            "Iteration 19\n",
            "Next point to probe is: {'length_0_h0': 0.975, 'length_0_h1': 0.971, 'length_1_h0': 0.767, 'length_1_h1': 0.119, 'level_0_h0': 0.008, 'level_0_h1': 0.914, 'level_1_h0': 0.149, 'level_1_h1': 0.976, 'ratio_0': 0.105, 'ratio_1': 0.115}\n",
            "Found the target value to be: -10\n",
            "Test F1-Score: 0\n",
            "\n"
          ]
        }
      ]
    },
    {
      "cell_type": "code",
      "source": [],
      "metadata": {
        "id": "XIvjGMCdbl5t"
      },
      "execution_count": null,
      "outputs": []
    },
    {
      "cell_type": "code",
      "source": [],
      "metadata": {
        "id": "zpxaJoDsbl3r"
      },
      "execution_count": null,
      "outputs": []
    },
    {
      "cell_type": "code",
      "source": [],
      "metadata": {
        "id": "HsXvmHBKbl0-"
      },
      "execution_count": null,
      "outputs": []
    },
    {
      "cell_type": "code",
      "source": [],
      "metadata": {
        "id": "vlVgor5xblyy"
      },
      "execution_count": null,
      "outputs": []
    },
    {
      "cell_type": "code",
      "source": [],
      "metadata": {
        "id": "FXwvIW-4blw0"
      },
      "execution_count": null,
      "outputs": []
    },
    {
      "cell_type": "code",
      "source": [],
      "metadata": {
        "id": "KzsWHeZUblsW"
      },
      "execution_count": null,
      "outputs": []
    },
    {
      "cell_type": "code",
      "source": [],
      "metadata": {
        "id": "PTQauOynblp-"
      },
      "execution_count": null,
      "outputs": []
    },
    {
      "cell_type": "code",
      "source": [],
      "metadata": {
        "id": "39IQhHT7blno"
      },
      "execution_count": null,
      "outputs": []
    }
  ]
}